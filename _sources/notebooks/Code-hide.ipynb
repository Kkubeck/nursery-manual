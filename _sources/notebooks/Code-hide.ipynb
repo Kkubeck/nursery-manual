{
 "cells": [
  {
   "cell_type": "code",
   "execution_count": 1,
   "id": "df043393-8533-43b0-9ea9-25ddedf0c332",
   "metadata": {
    "editable": true,
    "slideshow": {
     "slide_type": ""
    },
    "tags": []
   },
   "outputs": [
    {
     "name": "stdout",
     "output_type": "stream",
     "text": [
      "Tagged cell 1 with 'hide-input'.\n",
      "Tagged cell 2 with 'hide-input'.\n",
      "✅ Saved tagged notebook to: project_cold_with_graphics_tagged.ipynb\n"
     ]
    }
   ],
   "source": [
    "import nbformat\n",
    "from pathlib import Path\n",
    "\n",
    "# --- Settings ---\n",
    "input_path = Path(\"project_cold_with_graphics.ipynb\")  # 🔁 change to your notebook\n",
    "output_path = input_path.with_name(f\"{input_path.stem}_tagged.ipynb\")\n",
    "\n",
    "# Optional: only tag cells containing this keyword (set to \"\" to tag all code cells)\n",
    "keyword_filter = \"widgets\"  # set to \"\" to tag all cells\n",
    "\n",
    "# --- Load notebook ---\n",
    "nb = nbformat.read(input_path, as_version=4)\n",
    "\n",
    "# --- Apply tag ---\n",
    "for i, cell in enumerate(nb.cells):\n",
    "    if cell.cell_type == \"code\":\n",
    "        if keyword_filter in \"\".join(cell.source):  # or just: if True, to tag all\n",
    "            tags = cell.metadata.get(\"tags\", [])\n",
    "            if \"hide-input\" not in tags:\n",
    "                tags.append(\"hide-input\")\n",
    "                cell.metadata[\"tags\"] = tags\n",
    "                print(f\"Tagged cell {i} with 'hide-input'.\")\n",
    "\n",
    "# --- Save notebook ---\n",
    "nbformat.write(nb, output_path)\n",
    "print(f\"✅ Saved tagged notebook to: {output_path}\")\n"
   ]
  },
  {
   "cell_type": "code",
   "execution_count": null,
   "id": "73d49ae0-b208-477d-ab36-3e1b51d74aba",
   "metadata": {
    "editable": true,
    "slideshow": {
     "slide_type": ""
    },
    "tags": []
   },
   "outputs": [],
   "source": []
  }
 ],
 "metadata": {
  "kernelspec": {
   "display_name": "Python [conda env:base] *",
   "language": "python",
   "name": "conda-base-py"
  },
  "language_info": {
   "codemirror_mode": {
    "name": "ipython",
    "version": 3
   },
   "file_extension": ".py",
   "mimetype": "text/x-python",
   "name": "python",
   "nbconvert_exporter": "python",
   "pygments_lexer": "ipython3",
   "version": "3.12.3"
  }
 },
 "nbformat": 4,
 "nbformat_minor": 5
}
