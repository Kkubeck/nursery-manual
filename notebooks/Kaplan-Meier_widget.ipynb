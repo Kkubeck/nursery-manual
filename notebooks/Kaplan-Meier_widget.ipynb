{
 "cells": [
  {
   "cell_type": "markdown",
   "id": "66206e0d-ebce-4f36-a2f5-968233f388f2",
   "metadata": {},
   "source": [
    "# Kaplan-Meier Survival Curve Widget"
   ]
  },
  {
   "cell_type": "code",
   "execution_count": 1,
   "id": "c181c9e2-0d25-442d-8ffa-52835d819411",
   "metadata": {
    "tags": [
     "hide-input"
    ]
   },
   "outputs": [],
   "source": [
    "# Load libraries\n",
    "import pandas as pd\n",
    "import matplotlib.pyplot as plt\n",
    "from lifelines import KaplanMeierFitter\n",
    "import ipywidgets as widgets\n",
    "from IPython.display import display, clear_output\n",
    "import numpy as np\n",
    "import os"
   ]
  },
  {
   "cell_type": "code",
   "execution_count": 2,
   "id": "130c03d3-7039-446e-b94b-8fb135eab659",
   "metadata": {},
   "outputs": [],
   "source": [
    "# Load data\n",
    "def load_survival_data():\n",
    "    data_path = 'data/accession-items-history_1970to2025.csv'\n",
    "    if not os.path.exists(data_path) and os.path.exists('../data/accession-items-history_1970to2025.csv'):\n",
    "        data_path = '../data/accession-items-history_1970to2025.csv'\n",
    "    df = pd.read_csv(data_path, low_memory=False)\n",
    "    \n",
    "\n",
    "    df = df[df['ItemType'] == 'Planting'].copy()\n",
    "\n",
    "    df['ItemStatusDate'] = pd.to_datetime(df['ItemStatusDate'], errors='coerce')\n",
    "    df['ItemStatusDateTo'] = pd.to_datetime(df['ItemStatusDateTo'], errors='coerce')\n",
    "    df.loc[df['ItemStatusDateTo'] == pd.Timestamp('9999-12-31'), 'ItemStatusDateTo'] = pd.NaT\n",
    "\n",
    "    df.sort_values(by=['ItemAccNoFull', 'ItemStatusDate'], inplace=True)\n",
    "    df['NonNursery'] = ~df['ItemLocationCode'].astype(str).str.startswith('8')\n",
    "    first_non_nursery = df[df['NonNursery']].groupby('ItemAccNoFull').head(1)\n",
    "    valid_ids = first_non_nursery['ItemAccNoFull'].unique()\n",
    "    df = df[df['ItemAccNoFull'].isin(valid_ids)].copy()\n",
    "\n",
    "    initial = df.groupby('ItemAccNoFull')['ItemStatusDate'].min().reset_index(name='StartDate')\n",
    "    final = df.groupby('ItemAccNoFull').agg({\n",
    "        'ItemStatusDateTo': 'max',\n",
    "        'ItemStatus': 'last',\n",
    "        'AccNoFull': 'last',\n",
    "        'ProvenanceCode': 'last',\n",
    "        'ItemLocationCode': 'last'\n",
    "    }).reset_index()\n",
    "    final.rename(columns={'ItemStatusDateTo': 'EndDate', 'ItemStatus': 'FinalStatus'}, inplace=True)\n",
    "\n",
    "    survival_df = pd.merge(initial, final, on='ItemAccNoFull')\n",
    "    survival_df['Duration'] = (survival_df['EndDate'] - survival_df['StartDate']).dt.days / 365.25\n",
    "    terminal = ['Dead', 'Dead - Natural cause', 'Removed', 'Removed/Discarded', 'Not found', 'Stolen']\n",
    "    survival_df['Event'] = survival_df['FinalStatus'].isin(terminal).astype(int)\n",
    "    survival_df = survival_df[survival_df['Duration'] > 0].dropna(subset=['Duration'])\n",
    "\n",
    "    def map_prov(code):\n",
    "        if code in ['W', 'Z']:\n",
    "            return 'W+Z'\n",
    "        elif code == 'G':\n",
    "            return 'G'\n",
    "        else:\n",
    "            return 'Unknown'\n",
    "    survival_df['ProvenanceGroup'] = survival_df['ProvenanceCode'].apply(map_prov)\n",
    "\n",
    "    lf = pd.read_csv(\"../data/Accession_1970to2025.csv\", usecols=['AccNoFull', 'LifeForm'])\n",
    "    survival_df = pd.merge(survival_df, lf, on='AccNoFull', how='left')\n",
    "\n",
    "    def map_lf(x):\n",
    "        if x in ['Tree', 'Shrub', 'Climber_Liana_Vine']:\n",
    "            return 'Woody'\n",
    "        elif x in ['Herbaceous Perennial', 'Annual']:\n",
    "            return 'Herbaceous'\n",
    "        return 'Unknown'\n",
    "    survival_df['LifeFormGroup'] = survival_df['LifeForm'].apply(map_lf)\n",
    "\n",
    "    bed_map = pd.read_csv(\"../data/unique_beds.csv\").rename(columns={\"UniqueBed\": \"ItemLocationCode\"})\n",
    "    survival_df = pd.merge(survival_df, bed_map[['ItemLocationCode', 'Component']], on='ItemLocationCode', how='left')\n",
    "\n",
    "    return survival_df\n",
    "\n",
    "df_all = load_survival_data()"
   ]
  },
  {
   "cell_type": "code",
   "execution_count": 3,
   "id": "bb69c606-0aa1-47c5-9cc1-16ee7ad866d1",
   "metadata": {
    "tags": [
     "hide-input"
    ]
   },
   "outputs": [
    {
     "data": {
      "application/vnd.jupyter.widget-view+json": {
       "model_id": "f7474e82e64b4ad891810f0eff107bd4",
       "version_major": 2,
       "version_minor": 0
      },
      "text/plain": [
       "HBox(children=(VBox(children=(Checkbox(value=False, description='(All)', indent=False), Checkbox(value=False, …"
      ]
     },
     "metadata": {},
     "output_type": "display_data"
    },
    {
     "data": {
      "application/vnd.jupyter.widget-view+json": {
       "model_id": "eda5c8678e1a4bcaad3316876d5c25f7",
       "version_major": 2,
       "version_minor": 0
      },
      "text/plain": [
       "Output()"
      ]
     },
     "metadata": {},
     "output_type": "display_data"
    },
    {
     "data": {
      "application/vnd.jupyter.widget-view+json": {
       "model_id": "8f33f289d634476287afc0132b9a1460",
       "version_major": 2,
       "version_minor": 0
      },
      "text/plain": [
       "Output()"
      ]
     },
     "metadata": {},
     "output_type": "display_data"
    }
   ],
   "source": [
    "#Widget\n",
    "\n",
    "# Component definitions\n",
    "primary_components = ['Alpine', 'Asian', 'North America', 'Main Garden']\n",
    "secondary_components = ['Food', 'Winter', 'Contemporary', 'Physic', 'Front Entrance']\n",
    "all_components = primary_components + secondary_components\n",
    "\n",
    "# Widget build\n",
    "component_checkboxes = {comp: widgets.Checkbox(value=False, description=comp) for comp in all_components}\n",
    "select_all = widgets.Checkbox(value=False, description='(All)', indent=False)\n",
    "segment_lifeform = widgets.Checkbox(value=False, description='Segment by LifeForm')\n",
    "segment_provenance = widgets.Checkbox(value=False, description='Segment by Provenance')\n",
    "include_unknowns = widgets.Checkbox(value=False, description='Include Unknowns')\n",
    "output = widgets.Output()\n",
    "stats_output = widgets.Output()\n",
    "\n",
    "# Operational logic \n",
    "def update_all_checkbox(change):\n",
    "    # Temporarily disconnect redraws\n",
    "    for cb in component_checkboxes.values():\n",
    "        cb.unobserve(draw_km_curve, names='value')\n",
    "\n",
    "    for cb in component_checkboxes.values():\n",
    "        cb.value = select_all.value\n",
    "\n",
    "    # Reconnect and manually trigger once\n",
    "    for cb in component_checkboxes.values():\n",
    "        cb.observe(draw_km_curve, names='value')\n",
    "\n",
    "    draw_km_curve()\n",
    "\n",
    "#Kaplan-Meier statistics\n",
    "def compute_km_stats(df):\n",
    "    stats = []\n",
    "    for label, group in df.groupby('Label'):\n",
    "        kmf = KaplanMeierFitter()\n",
    "        kmf.fit(group['Duration'], group['Event'])\n",
    "        censored_rate = 100 * (1 - group['Event'].mean())\n",
    "        stats.append({\n",
    "            'Group': label,\n",
    "            'Count': len(group),\n",
    "            'Median Survival (yrs)': round(kmf.median_survival_time_ or 0, 2),\n",
    "            'Censoring Rate (%)': round(censored_rate, 1)\n",
    "        })\n",
    "    return pd.DataFrame(stats)\n",
    "\n",
    "def draw_km_curve(change=None):\n",
    "    with output:\n",
    "        clear_output(wait=True)\n",
    "    with stats_output:\n",
    "        clear_output(wait=True)\n",
    "\n",
    "    selected_components = [name for name, cb in component_checkboxes.items() if cb.value]\n",
    "    all_checked = select_all.value\n",
    "\n",
    "    if not selected_components and not all_checked:\n",
    "        with output:\n",
    "            print(\"Please select at least one component.\")\n",
    "        return\n",
    "\n",
    "    seg_keys = []\n",
    "    if segment_lifeform.value:\n",
    "        seg_keys.append(\"LifeFormGroup\")\n",
    "    if segment_provenance.value:\n",
    "        seg_keys.append(\"ProvenanceGroup\")\n",
    "\n",
    "    if all_checked:\n",
    "        subset = df_all[df_all[\"Component\"].isin(all_components)].copy()\n",
    "        if seg_keys:\n",
    "            label_keys = seg_keys\n",
    "            subset['Label'] = subset[seg_keys].fillna(\"Unknown\").agg(\" - \".join, axis=1)\n",
    "        else:\n",
    "            subset['Label'] = '(All Components)'\n",
    "    else:\n",
    "        subset = df_all[df_all[\"Component\"].isin(selected_components)].copy()\n",
    "        label_keys = [\"Component\"] + seg_keys\n",
    "        subset['Label'] = subset[label_keys].fillna(\"Unknown\").agg(\" - \".join, axis=1)\n",
    "\n",
    "    # Drop 'Unknown' if checkbox is unchecked\n",
    "    if not include_unknowns.value:\n",
    "        subset = subset[~subset['Label'].str.contains(\"Unknown\")]\n",
    "\n",
    "    if subset.empty:\n",
    "        with output:\n",
    "            print(\"No data to display.\")\n",
    "        return\n",
    "\n",
    "    plt.figure(figsize=(10, 6))\n",
    "    for label, group in subset.groupby('Label'):\n",
    "        kmf = KaplanMeierFitter()\n",
    "        kmf.fit(group['Duration'], group['Event'], label=label)\n",
    "        kmf.plot_survival_function()\n",
    "\n",
    "    title_seg = \" + \".join(seg_keys) if seg_keys else \"(All Components)\" if all_checked else \"Component\"\n",
    "    plt.title(f\"Kaplan–Meier Survival Curves by {title_seg}\")\n",
    "    plt.xlabel(\"Years\")\n",
    "    plt.ylabel(\"Survival Probability\")\n",
    "    plt.xlim(0, 50)\n",
    "    plt.grid(True)\n",
    "    plt.legend(title='Group')\n",
    "    plt.tight_layout()\n",
    "    with output:\n",
    "        plt.show()\n",
    "\n",
    "    # Show stats table\n",
    "    stats_df = compute_km_stats(subset)\n",
    "    with stats_output:\n",
    "        display(stats_df)\n",
    "\n",
    "# Link interactions\n",
    "select_all.observe(update_all_checkbox, names='value')\n",
    "for cb in component_checkboxes.values():\n",
    "    cb.observe(draw_km_curve, names='value')\n",
    "segment_lifeform.observe(draw_km_curve, names='value')\n",
    "segment_provenance.observe(draw_km_curve, names='value')\n",
    "include_unknowns.observe(draw_km_curve, names='value')\n",
    "\n",
    "# Display\n",
    "component_box = widgets.VBox([select_all] + list(component_checkboxes.values()))\n",
    "controls = widgets.HBox([component_box, widgets.VBox([segment_lifeform, segment_provenance, include_unknowns])])\n",
    "\n",
    "display(controls, output, stats_output)\n",
    "draw_km_curve()"
   ]
  }
 ],
 "metadata": {
  "kernelspec": {
   "display_name": "Python [conda env:base] *",
   "language": "python",
   "name": "conda-base-py"
  },
  "language_info": {
   "codemirror_mode": {
    "name": "ipython",
    "version": 3
   },
   "file_extension": ".py",
   "mimetype": "text/x-python",
   "name": "python",
   "nbconvert_exporter": "python",
   "pygments_lexer": "ipython3",
   "version": "3.12.3"
  }
 },
 "nbformat": 4,
 "nbformat_minor": 5
}
