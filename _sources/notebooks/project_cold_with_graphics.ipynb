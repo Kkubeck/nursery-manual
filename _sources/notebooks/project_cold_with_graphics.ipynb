{
 "cells": [
  {
   "cell_type": "code",
   "execution_count": 4,
   "id": "c8bf9924-0187-455d-82e0-3c4b174d2378",
   "metadata": {},
   "outputs": [
    {
     "data": {
      "application/vnd.jupyter.widget-view+json": {
       "model_id": "c251374f65914082b5aaa1e3490f6f55",
       "version_major": 2,
       "version_minor": 0
      },
      "text/plain": [
       "VBox(children=(HTML(value='<h3>Temperature Analysis Tool</h3><p>Select a date range and temperature cutoff to …"
      ]
     },
     "metadata": {},
     "output_type": "display_data"
    }
   ],
   "source": [
    "import pandas as pd\n",
    "import ipywidgets as widgets\n",
    "from IPython.display import display\n",
    "import matplotlib.pyplot as plt\n",
    "\n",
    "# Load your data (using the corrected method to combine dates)\n",
    "dft = pd.read_csv('../data/ubc_temperature91_02cl.csv')\n",
    "dft['Date_Time'] = pd.to_datetime(dft['Date'] + ' ' + dft['Time'])\n",
    "dft.drop(['Date', 'Time'], axis=1, inplace=True)\n",
    "dft.set_index('Date_Time', inplace=True)\n",
    "\n",
    "# Function to calculate the number of days below the cutoff temperature\n",
    "def get_period(start, end, cutoff):\n",
    "    dft1 = dft[start:end]\n",
    "    # Number of hours below the cutoff temperature\n",
    "    below_hours = (dft1['Tair'] <= cutoff).sum()\n",
    "    # Convert hours to days\n",
    "    below_days = round(below_hours / 24)\n",
    "    return below_days\n",
    "\n",
    "# Interactive widgets with default values\n",
    "min_date = dft.index.min().date()\n",
    "max_date = dft.index.max().date()\n",
    "\n",
    "start_date = widgets.DatePicker(description='Start Date', value=min_date)\n",
    "end_date = widgets.DatePicker(description='End Date', value=max_date)\n",
    "temp_cutoff = widgets.FloatText(description='Temp Cutoff (°C)', value=0.0)\n",
    "output = widgets.Output()\n",
    "\n",
    "def on_button_click(b):\n",
    "    with output:\n",
    "        output.clear_output()\n",
    "        # Check if dates are selected\n",
    "        if not start_date.value or not end_date.value:\n",
    "            print(\"Please select both start and end dates.\")\n",
    "            return\n",
    "        # Ensure dates are strings in the correct format\n",
    "        start = start_date.value.strftime('%Y-%m-%d')\n",
    "        end = end_date.value.strftime('%Y-%m-%d')\n",
    "        # Check if start date is before end date\n",
    "        if start_date.value > end_date.value:\n",
    "            print(\"Start date must be before end date.\")\n",
    "            return\n",
    "        cutoff = temp_cutoff.value\n",
    "        # Call the get_period function\n",
    "        below_days = get_period(start, end, cutoff)\n",
    "        # Display the result\n",
    "        print(f\"**Temperature Analysis**\")\n",
    "        print(f\"Period: {start} to {end}\")\n",
    "        print(f\"Temperature Cutoff: {cutoff}°C\")\n",
    "        print(f\"Days Below Cutoff: {below_days} days\")\n",
    "        \n",
    "        # Plotting the temperature over the period\n",
    "        dft1 = dft[start:end]\n",
    "        if dft1.empty:\n",
    "            print(\"No data available for the selected period.\")\n",
    "            return\n",
    "        plt.figure(figsize=(12, 6))\n",
    "        plt.plot(dft1.index, dft1['Tair'], label='Temperature', color='blue')\n",
    "        plt.axhline(y=cutoff, color='red', linestyle='--', label=f'Cutoff ({cutoff}°C)')\n",
    "        plt.xlabel('Date')\n",
    "        plt.ylabel('Temperature (°C)')\n",
    "        plt.title('Temperature Over Selected Period')\n",
    "        plt.legend()\n",
    "        plt.gcf().autofmt_xdate()\n",
    "        plt.show()\n",
    "    \n",
    "# Button to trigger the calculation\n",
    "calculate_button = widgets.Button(description='Calculate', button_style='success')\n",
    "calculate_button.on_click(on_button_click)\n",
    "\n",
    "# Display widgets with a description\n",
    "intro_text = widgets.HTML(\n",
    "    value=\"<h3>Temperature Analysis Tool</h3><p>Select a date range and temperature cutoff to analyze the number of days below the specified temperature. The plot will show the temperature variations over the selected period.</p>\"\n",
    ")\n",
    "\n",
    "widget_box = widgets.VBox([intro_text, start_date, end_date, temp_cutoff, calculate_button, output])\n",
    "display(widget_box)\n",
    "\n"
   ]
  },
  {
   "cell_type": "code",
   "execution_count": null,
   "id": "3d542225-3c90-4e4e-8b63-40d169b614e4",
   "metadata": {},
   "outputs": [],
   "source": []
  }
 ],
 "metadata": {
  "kernelspec": {
   "display_name": "Python [conda env:base] *",
   "language": "python",
   "name": "conda-base-py"
  },
  "language_info": {
   "codemirror_mode": {
    "name": "ipython",
    "version": 3
   },
   "file_extension": ".py",
   "mimetype": "text/x-python",
   "name": "python",
   "nbconvert_exporter": "python",
   "pygments_lexer": "ipython3",
   "version": "3.12.3"
  }
 },
 "nbformat": 4,
 "nbformat_minor": 5
}
