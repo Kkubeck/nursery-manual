{
 "cells": [
  {
   "cell_type": "markdown",
   "id": "7c02ca59",
   "metadata": {},
   "source": [
    "# Climate Suitability Widget"
   ]
  },
  {
   "cell_type": "code",
   "execution_count": 9,
   "id": "37fbc054",
   "metadata": {
    "tags": [
     "hide-input"
    ]
   },
   "outputs": [],
   "source": [
    "# Imports\n",
    "import pandas as pd\n",
    "import altair as alt\n",
    "import ipywidgets as widgets\n",
    "from IPython.display import display, clear_output\n",
    "import os\n",
    "\n",
    "\n",
    "alt.data_transformers.enable('vegafusion')\n",
    "#alt.data_transformers.disable_max_rows();\n"
   ]
  },
  {
   "cell_type": "code",
   "execution_count": 10,
   "id": "78354e3b",
   "metadata": {},
   "outputs": [],
   "source": [
    "# Load and preprocess CAT data with dynamic path\n",
    "data_path = 'data/CAT-current-UBCBG.csv'\n",
    "if not os.path.exists(data_path) and os.path.exists('../data/CAT-current-UBCBG.csv'):\n",
    "    data_path = '../data/CAT-current-UBCBG.csv'\n",
    "\n",
    "cat_df = pd.read_csv(data_path)\n",
    "\n",
    "# Rename climate rating columns\n",
    "cat_df = cat_df.rename(columns={\n",
    "    'TaxonName': 'Taxon',\n",
    "    'ProvenanceCode': 'ProvenanceGroup',\n",
    "    'ClimateRating_current': 'Current',\n",
    "    'ClimateRating_emissions-limited_2050': '2050',\n",
    "    'ClimateRating_business-as-usual_2090': '2090',\n",
    "    'ClimateRating_bau-plus-1-degree_2090': '2090_plus_1deg'\n",
    "})\n",
    "\n",
    "# Fold into long format\n",
    "long_df = cat_df.melt(\n",
    "    id_vars=['ItemAccNoFull', 'ItemLocationCode', 'LocationCoordX', 'LocationCoordY', \n",
    "             'Taxon', 'LifeForm', 'ProvenanceGroup', 'LocationName'],\n",
    "    value_vars=['Current', '2050', '2090', '2090_plus_1deg'],\n",
    "    var_name='Era',\n",
    "    value_name='ClimateRating'\n",
    ")\n",
    "\n",
    "# Filter to Main Garden\n",
    "garden_df = long_df[\n",
    "    (~long_df['LocationName'].str.contains('Nursery', na=False)) &\n",
    "    (~long_df['LocationName'].str.contains('Nitobe', na=False))\n",
    "].dropna(subset=['LocationCoordX', 'LocationCoordY'])"
   ]
  },
  {
   "cell_type": "code",
   "execution_count": 11,
   "id": "f9c121fd",
   "metadata": {},
   "outputs": [],
   "source": [
    "# Map LifeForm into simplified groups\n",
    "def map_lifeform(lifeform):\n",
    "    if pd.isna(lifeform):\n",
    "        return 'Unknown'\n",
    "    if lifeform in ['Tree', 'Shrub or Tree']:\n",
    "        return 'Trees'\n",
    "    if lifeform == 'Herbaceous Perennial':\n",
    "        return 'Perennials'\n",
    "    if lifeform == 'Annual':\n",
    "        return 'Annuals'\n",
    "    if lifeform == 'Bulb, Corm, or Tuber':\n",
    "        return 'Bulbs'\n",
    "    if lifeform in ['Shrub', 'Climber_Liana_Vine']:\n",
    "        return 'Woody'\n",
    "    if lifeform in ['Annual', 'Herbaceous Perennial', 'Bulb, Corm, or Tuber']:\n",
    "        return 'Herbaceous'\n",
    "    return 'Other'\n",
    "\n",
    "garden_df['LifeFormGroup'] = garden_df['LifeForm'].apply(map_lifeform)"
   ]
  },
  {
   "cell_type": "code",
   "execution_count": 12,
   "id": "9040669a",
   "metadata": {
    "tags": [
     "hide-input"
    ]
   },
   "outputs": [],
   "source": [
    "# Set up dropdown widgets\n",
    "era_widget = widgets.Dropdown(\n",
    "    options=['Current', '2050', '2090', '2090_plus_1deg'],\n",
    "    value='Current',\n",
    "    description='Era:'\n",
    ")\n",
    "\n",
    "lifeform_widget = widgets.Dropdown(\n",
    "    options=['(All)', 'Trees', 'Perennials', 'Annuals', 'Bulbs', 'Woody', 'Herbaceous', 'Other'],\n",
    "    value='(All)',\n",
    "    description='LifeForm:'\n",
    ")\n",
    "\n",
    "provenance_widget = widgets.Dropdown(\n",
    "    options=['(All)'] + sorted(garden_df['ProvenanceGroup'].dropna().unique()),\n",
    "    value='(All)',\n",
    "    description='Provenance:'\n",
    ")\n",
    "\n",
    "output = widgets.Output()"
   ]
  },
  {
   "cell_type": "code",
   "execution_count": 13,
   "id": "fbb048f5",
   "metadata": {},
   "outputs": [],
   "source": [
    "# Define fixed Garden boundaries\n",
    "manual_long_min = -123.2525\n",
    "manual_long_max = -123.2402\n",
    "manual_lat_min = 49.248\n",
    "manual_lat_max = 49.256"
   ]
  },
  {
   "cell_type": "code",
   "execution_count": 14,
   "id": "e5b23c71",
   "metadata": {},
   "outputs": [],
   "source": [
    "# Plot update function\n",
    "def update_plot(*args):\n",
    "    filtered = garden_df[garden_df['Era'] == era_widget.value]\n",
    "    \n",
    "    if lifeform_widget.value != '(All)':\n",
    "        filtered = filtered[filtered['LifeFormGroup'] == lifeform_widget.value]\n",
    "        \n",
    "    if provenance_widget.value != '(All)':\n",
    "        filtered = filtered[filtered['ProvenanceGroup'] == provenance_widget.value]\n",
    "    \n",
    "    filtered = filtered.dropna(subset=['ClimateRating'])\n",
    "    \n",
    "    chart = alt.Chart(filtered).mark_circle(size=60).encode(\n",
    "        x=alt.X('LocationCoordY:Q', scale=alt.Scale(domain=[manual_long_min, manual_long_max]), axis=alt.Axis(title='Longitude')),\n",
    "        y=alt.Y('LocationCoordX:Q', scale=alt.Scale(domain=[manual_lat_min, manual_lat_max]), axis=alt.Axis(title='Latitude')),\n",
    "        color=alt.Color('ClimateRating:Q', scale=alt.Scale(domain=[5, 11], range=['red', 'yellow', 'green'])),\n",
    "        tooltip=['Taxon:N', 'ClimateRating:Q', 'LocationCoordX:Q', 'LocationCoordY:Q']\n",
    "    ).properties(\n",
    "        width=600,\n",
    "        height=600,\n",
    "        title=f\"Climate Rating Map ({era_widget.value})\"\n",
    "    )\n",
    "    \n",
    "    with output:\n",
    "        clear_output(wait=True)\n",
    "        if not filtered.empty:\n",
    "            display(chart)\n",
    "        else:\n",
    "            display(alt.Chart(pd.DataFrame({'x':[], 'y':[]})).mark_point())"
   ]
  },
  {
   "cell_type": "code",
   "execution_count": 15,
   "id": "a99f6340-7b45-4187-a9dd-2dc75bbc3a3e",
   "metadata": {
    "tags": [
     "hide-input"
    ]
   },
   "outputs": [
    {
     "data": {
      "application/vnd.jupyter.widget-view+json": {
       "model_id": "d877a393c22940448f37304e793199a1",
       "version_major": 2,
       "version_minor": 0
      },
      "text/plain": [
       "HBox(children=(VBox(children=(Dropdown(description='Era:', options=('Current', '2050', '2090', '2090_plus_1deg…"
      ]
     },
     "metadata": {},
     "output_type": "display_data"
    }
   ],
   "source": [
    "for widget in [era_widget, lifeform_widget, provenance_widget]:\n",
    "    widget.observe(update_plot, names='value')\n",
    "\n",
    "# Display widgets and output\n",
    "ui = widgets.HBox([\n",
    "    widgets.VBox([era_widget, lifeform_widget, provenance_widget]),\n",
    "    output\n",
    "])\n",
    "\n",
    "display(ui)\n",
    "\n",
    "# Schedule plot update AFTER render\n",
    "def trigger_initial_plot(_):\n",
    "    update_plot()\n",
    "    for w in [era_widget, lifeform_widget, provenance_widget]:\n",
    "        w.unobserve(trigger_initial_plot, names='value')  # cleanup\n",
    "\n",
    "# Trigger once after render by observing a dummy change\n",
    "for w in [era_widget, lifeform_widget, provenance_widget]:\n",
    "    w.observe(trigger_initial_plot, names='value')\n",
    "w.value = w.value  # dummy assignment to force the observer to fire\n"
   ]
  }
 ],
 "metadata": {
  "kernelspec": {
   "display_name": "Python [conda env:base] *",
   "language": "python",
   "name": "conda-base-py"
  },
  "language_info": {
   "codemirror_mode": {
    "name": "ipython",
    "version": 3
   },
   "file_extension": ".py",
   "mimetype": "text/x-python",
   "name": "python",
   "nbconvert_exporter": "python",
   "pygments_lexer": "ipython3",
   "version": "3.12.3"
  }
 },
 "nbformat": 4,
 "nbformat_minor": 5
}
