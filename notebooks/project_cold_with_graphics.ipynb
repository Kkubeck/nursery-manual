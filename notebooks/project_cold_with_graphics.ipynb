{
 "cells": [
  {
   "cell_type": "markdown",
   "id": "036f0809-df78-4bda-a1e5-0b3b2978120d",
   "metadata": {},
   "source": [
    "# Project Cold with Graphics"
   ]
  },
  {
   "cell_type": "code",
   "execution_count": 1,
   "id": "3e53e019-db18-4c40-8c88-e35e8824821f",
   "metadata": {},
   "outputs": [],
   "source": [
    "import pandas as pd\n",
    "import ipywidgets as widgets\n",
    "from IPython.display import display\n",
    "import matplotlib.pyplot as plt\n",
    "\n",
    "# Load data \n",
    "dft = pd.read_csv('../data/ubc_temperature91_02cl.csv')\n",
    "dft['Date_Time'] = pd.to_datetime(dft['Date'] + ' ' + dft['Time'])\n",
    "dft.drop(['Date', 'Time'], axis=1, inplace=True)\n",
    "dft.set_index('Date_Time', inplace=True)"
   ]
  },
  {
   "cell_type": "code",
   "execution_count": 2,
   "id": "c6479994-c581-4e3d-848c-c97994e89ee9",
   "metadata": {
    "editable": true,
    "slideshow": {
     "slide_type": ""
    },
    "tags": []
   },
   "outputs": [
    {
     "data": {
      "application/vnd.jupyter.widget-view+json": {
       "model_id": "585a6674db6e48ed8b3474b3bd54eddd",
       "version_major": 2,
       "version_minor": 0
      },
      "text/plain": [
       "VBox(children=(HTML(value='\\n    <h3>Temperature Analysis Tool</h3>\\n    <p>Select a date range, temperature c…"
      ]
     },
     "metadata": {},
     "output_type": "display_data"
    }
   ],
   "source": [
    "# Function to calculate days with temperature below cutoff\n",
    "def calculate_days_below_cutoff(dft1, cutoff):\n",
    "    # Create a new column for the date part only\n",
    "    dft1['Date'] = dft1.index.date\n",
    "    # Group by date and check if any temperature was below the cutoff\n",
    "    days_below_cutoff = dft1.groupby('Date')['Tair'].apply(lambda x: (x <= cutoff).any())\n",
    "    # Count the number of days where the condition is True\n",
    "    num_days_below = days_below_cutoff.sum()\n",
    "    return int(num_days_below)\n",
    "\n",
    "# Function to calculate accumulated degree-days below cutoff\n",
    "def calculate_accumulated_degree_days(dft1, cutoff):\n",
    "    # Number of hours below the cutoff temperature\n",
    "    below_hours = (dft1['Tair'] <= cutoff).sum()\n",
    "    # Convert hours to days\n",
    "    accumulated_degree_days = below_hours / 24\n",
    "    return round(accumulated_degree_days, 2)\n",
    "\n",
    "# Interactive widgets with default values\n",
    "min_date = dft.index.min().date()\n",
    "max_date = dft.index.max().date()\n",
    "\n",
    "start_date = widgets.DatePicker(description='Start Date', value=min_date)\n",
    "end_date = widgets.DatePicker(description='End Date', value=max_date)\n",
    "temp_cutoff = widgets.FloatText(description='Temp Cutoff (°C)', value=0.0)\n",
    "\n",
    "# Metric selection widget\n",
    "metric_options = ['Days with Temperature Below Cutoff', 'Accumulated Degree-Days Below Cutoff']\n",
    "metric_selection = widgets.Dropdown(\n",
    "    options=metric_options,\n",
    "    value=metric_options[0],\n",
    "    description='Metric:',\n",
    ")\n",
    "\n",
    "output = widgets.Output()\n",
    "\n",
    "def on_button_click(b):\n",
    "    with output:\n",
    "        output.clear_output()\n",
    "        # Check if dates are selected\n",
    "        if not start_date.value or not end_date.value:\n",
    "            print(\"Please select both start and end dates.\")\n",
    "            return\n",
    "        # Ensure dates are strings in the correct format\n",
    "        start = start_date.value.strftime('%Y-%m-%d')\n",
    "        end = end_date.value.strftime('%Y-%m-%d')\n",
    "        # Check if start date is before end date\n",
    "        if start_date.value > end_date.value:\n",
    "            print(\"Start date must be before end date.\")\n",
    "            return\n",
    "        cutoff = temp_cutoff.value\n",
    "        # Filter data for the selected period\n",
    "        dft1 = dft[start:end].copy()\n",
    "        if dft1.empty:\n",
    "            print(\"No data available for the selected period.\")\n",
    "            return\n",
    "        # Perform calculation based on selected metric\n",
    "        selected_metric = metric_selection.value\n",
    "        if selected_metric == 'Days with Temperature Below Cutoff':\n",
    "            result = calculate_days_below_cutoff(dft1, cutoff)\n",
    "            result_text = f\"Days with Temperature Below Cutoff: {result} days\"\n",
    "        elif selected_metric == 'Accumulated Degree-Days Below Cutoff':\n",
    "            result = calculate_accumulated_degree_days(dft1, cutoff)\n",
    "            result_text = f\"Accumulated Degree-Days Below Cutoff: {result} days\"\n",
    "        else:\n",
    "            print(\"Invalid metric selected.\")\n",
    "            return\n",
    "        # Display the result\n",
    "        print(f\"**Temperature Analysis**\")\n",
    "        print(f\"Period: {start} to {end}\")\n",
    "        print(f\"Temperature Cutoff: {cutoff}°C\")\n",
    "        print(result_text)\n",
    "        \n",
    "        # Plotting the temperature over the period\n",
    "        plt.figure(figsize=(12, 6))\n",
    "        plt.plot(dft1.index, dft1['Tair'], label='Temperature', color='blue')\n",
    "        plt.axhline(y=cutoff, color='red', linestyle='--', label=f'Cutoff ({cutoff}°C)')\n",
    "        plt.xlabel('Date')\n",
    "        plt.ylabel('Temperature (°C)')\n",
    "        plt.title('Temperature Over Selected Period')\n",
    "        plt.legend()\n",
    "        plt.gcf().autofmt_xdate()\n",
    "        plt.show()\n",
    "        \n",
    "# Button to trigger the calculation\n",
    "calculate_button = widgets.Button(description='Calculate', button_style='success')\n",
    "calculate_button.on_click(on_button_click)\n",
    "\n",
    "# Display widgets with a description\n",
    "intro_text = widgets.HTML(\n",
    "    value=\"\"\"\n",
    "    <h3>Temperature Analysis Tool</h3>\n",
    "    <p>Select a date range, temperature cutoff, and metric to analyze the temperature data. \n",
    "    The plot will show the temperature variations over the selected period.</p>\n",
    "    \"\"\"\n",
    ")\n",
    "\n",
    "widget_box = widgets.VBox([\n",
    "    intro_text, \n",
    "    start_date, \n",
    "    end_date, \n",
    "    temp_cutoff, \n",
    "    metric_selection, \n",
    "    calculate_button, \n",
    "    output\n",
    "])\n",
    "display(widget_box)\n"
   ]
  },
  {
   "cell_type": "code",
   "execution_count": null,
   "id": "9bdab323-f53c-4c56-974e-7a029c984e37",
   "metadata": {},
   "outputs": [],
   "source": []
  }
 ],
 "metadata": {
  "kernelspec": {
   "display_name": "Python [conda env:base] *",
   "language": "python",
   "name": "conda-base-py"
  },
  "language_info": {
   "codemirror_mode": {
    "name": "ipython",
    "version": 3
   },
   "file_extension": ".py",
   "mimetype": "text/x-python",
   "name": "python",
   "nbconvert_exporter": "python",
   "pygments_lexer": "ipython3",
   "version": "3.12.3"
  }
 },
 "nbformat": 4,
 "nbformat_minor": 5
}
