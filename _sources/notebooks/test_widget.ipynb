{
 "cells": [
  {
   "cell_type": "code",
   "execution_count": null,
   "id": "8d2477c9-5cc6-4828-9620-b64719a8e627",
   "metadata": {},
   "outputs": [],
   "source": [
    "# Kaplan-Meier Survival Curves"
   ]
  },
  {
   "cell_type": "code",
   "execution_count": null,
   "id": "ba20fbba-645d-4fe4-9c44-65afd14ab8a4",
   "metadata": {},
   "outputs": [],
   "source": []
  },
  {
   "cell_type": "code",
   "execution_count": 1,
   "id": "0b195daa-6421-4371-a303-09577fb16bc0",
   "metadata": {},
   "outputs": [
    {
     "data": {
      "application/vnd.jupyter.widget-view+json": {
       "model_id": "94fe28730f5544da98e590edbbb83fce",
       "version_major": 2,
       "version_minor": 0
      },
      "text/plain": [
       "Dropdown(description='Pick one:', options=('Option 1', 'Option 2', 'Option 3'), value='Option 1')"
      ]
     },
     "metadata": {},
     "output_type": "display_data"
    }
   ],
   "source": [
    "import ipywidgets as widgets\n",
    "from IPython.display import display\n",
    "\n",
    "def on_change(change):\n",
    "    print(f\"Selected: {change['new']}\")\n",
    "\n",
    "dropdown = widgets.Dropdown(\n",
    "    options=['Option 1', 'Option 2', 'Option 3'],\n",
    "    description='Pick one:',\n",
    ")\n",
    "\n",
    "dropdown.observe(on_change, names='value')\n",
    "display(dropdown)\n"
   ]
  }
 ],
 "metadata": {
  "kernelspec": {
   "display_name": "Python [conda env:base] *",
   "language": "python",
   "name": "conda-base-py"
  },
  "language_info": {
   "codemirror_mode": {
    "name": "ipython",
    "version": 3
   },
   "file_extension": ".py",
   "mimetype": "text/x-python",
   "name": "python",
   "nbconvert_exporter": "python",
   "pygments_lexer": "ipython3",
   "version": "3.12.3"
  }
 },
 "nbformat": 4,
 "nbformat_minor": 5
}
