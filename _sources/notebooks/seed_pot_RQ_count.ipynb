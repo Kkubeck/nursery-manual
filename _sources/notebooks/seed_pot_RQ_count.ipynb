{
 "cells": [
  {
   "cell_type": "markdown",
   "id": "a46baf18-9167-4585-9c4c-ab1bc3025614",
   "metadata": {},
   "source": [
    "# Seed Pot RQ Count"
   ]
  },
  {
   "cell_type": "code",
   "execution_count": 1,
   "id": "02e7860c",
   "metadata": {},
   "outputs": [],
   "source": [
    "import pandas as pd\n",
    "import re"
   ]
  },
  {
   "cell_type": "code",
   "execution_count": 2,
   "id": "001eac7a-6c3d-4cd8-acad-26450e7fd93e",
   "metadata": {},
   "outputs": [],
   "source": [
    "# load the CSV file with ISO-8859-1 encoding\n",
    "df = pd.read_csv('../data/2017-2023_all-prop.csv', encoding='ISO-8859-1')\n"
   ]
  },
  {
   "cell_type": "code",
   "execution_count": 3,
   "id": "3042b92a-b52e-48ca-a574-ed2423038392",
   "metadata": {},
   "outputs": [
    {
     "data": {
      "text/plain": [
       "35893"
      ]
     },
     "execution_count": 3,
     "metadata": {},
     "output_type": "execute_result"
    }
   ],
   "source": [
    "# Define a regex pattern to match '*number* RQ' and common misspellings like '12 RQ,'\n",
    "rq_pattern = re.compile(r'(\\d+)\\s*RQ\\W*', re.IGNORECASE)\n",
    "\n",
    "# Apply the pattern to the 'ItemComment' column to find all matches\n",
    "df['RQ_Matches'] = df['ItemComment'].str.findall(rq_pattern)\n",
    "\n",
    "# Ensure that NaN values in 'RQ_Matches' are treated as empty lists\n",
    "df['RQ_Matches'] = df['RQ_Matches'].apply(lambda x: x if isinstance(x, list) else [])\n",
    "\n",
    "# Remove the rows without 'RQ' pattern from the dataframe\n",
    "df_cleaned = df[~df['RQ_Matches'].apply(lambda x: len(x) == 0)]\n",
    "\n",
    "# When creating df_cleaned from another DataFrame (df in this case), use .copy()\n",
    "df_cleaned = df[~df['RQ_Matches'].apply(lambda x: len(x) == 0)].copy()\n",
    "\n",
    "\n",
    "# Extract the numbers from the 'RQ' pattern, cast to integers, and sum\n",
    "total_rq = df_cleaned['RQ_Matches'].explode().astype(int).sum()\n",
    "\n",
    "total_rq"
   ]
  },
  {
   "cell_type": "code",
   "execution_count": 4,
   "id": "7c984f39-949f-4c80-b6a4-b1e4ac2970ae",
   "metadata": {},
   "outputs": [
    {
     "data": {
      "text/plain": [
       "14297"
      ]
     },
     "execution_count": 4,
     "metadata": {},
     "output_type": "execute_result"
    }
   ],
   "source": [
    "# Assuming 'ItemAccNoFull' is the unique identifier for each accession item\n",
    "# Group by 'ItemAccNoFull' and take the first RQ match per group\n",
    "df_cleaned_grouped = df_cleaned.groupby('ItemAccNoFull')['RQ_Matches'].first().explode().astype(int)\n",
    "\n",
    "# Sum the unique RQ values for each accession item\n",
    "total_unique_rq = df_cleaned_grouped.sum()\n",
    "\n",
    "total_unique_rq\n"
   ]
  },
  {
   "cell_type": "code",
   "execution_count": null,
   "id": "27a354fb-777a-4c62-b2c9-92a4e6087834",
   "metadata": {},
   "outputs": [],
   "source": []
  }
 ],
 "metadata": {
  "kernelspec": {
   "display_name": "Python [conda env:base] *",
   "language": "python",
   "name": "conda-base-py"
  },
  "language_info": {
   "codemirror_mode": {
    "name": "ipython",
    "version": 3
   },
   "file_extension": ".py",
   "mimetype": "text/x-python",
   "name": "python",
   "nbconvert_exporter": "python",
   "pygments_lexer": "ipython3",
   "version": "3.12.3"
  }
 },
 "nbformat": 4,
 "nbformat_minor": 5
}
