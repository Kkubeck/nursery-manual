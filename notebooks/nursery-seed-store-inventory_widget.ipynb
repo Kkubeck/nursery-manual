{
 "cells": [
  {
   "cell_type": "markdown",
   "id": "13367bc0-7fa7-486e-b69e-1c54619b9923",
   "metadata": {},
   "source": [
    "# Nursery Seed Store Widget"
   ]
  },
  {
   "cell_type": "code",
   "execution_count": 5,
   "id": "aad6a561-176f-4ab3-816f-cc7cc0dbc6a1",
   "metadata": {
    "tags": [
     "hide-input"
    ]
   },
   "outputs": [
    {
     "data": {
      "application/vnd.jupyter.widget-view+json": {
       "model_id": "b481adb1c7074969b73b7bb8e49c08a2",
       "version_major": 2,
       "version_minor": 0
      },
      "text/plain": [
       "HBox(children=(Text(value='', description='Accession #:', placeholder='e.g. 1978-045'), Text(value='', descrip…"
      ]
     },
     "metadata": {},
     "output_type": "display_data"
    },
    {
     "data": {
      "application/vnd.jupyter.widget-view+json": {
       "model_id": "4224baf119314431b8918c8ce2d26d81",
       "version_major": 2,
       "version_minor": 0
      },
      "text/plain": [
       "Output()"
      ]
     },
     "metadata": {},
     "output_type": "display_data"
    }
   ],
   "source": [
    "# Load libraries\n",
    "import pandas as pd\n",
    "import ipywidgets as widgets\n",
    "from IPython.display import display, clear_output\n",
    "\n",
    "try:\n",
    "    hist = pd.read_csv(\"../data/accession-items-history_2017to2025.csv\", low_memory=False)\n",
    "except Exception as e:\n",
    "    from IPython.display import Markdown\n",
    "    display(Markdown(f\"**Data load failed**: {e}\"))\n",
    "\n",
    "\n",
    "# Filter current seed-store items\n",
    "seed_store = hist.loc[\n",
    "    (hist[\"Current\"] == \">>>\") &\n",
    "    (hist[\"ItemStatus\"] == \"Seed store\"),\n",
    "    [\"AccNoFull\",\"ItemSpecCount\",\"TaxonName\",\"Purpose\"]\n",
    "].copy()\n",
    "\n",
    "# Summarize inventory\n",
    "inventory = (\n",
    "    seed_store\n",
    "    .groupby([\"AccNoFull\",\"TaxonName\",\"Purpose\"], as_index=False)\n",
    "    .agg(SeedsInStore=(\"ItemSpecCount\",\"sum\"))\n",
    "    # reorder columns\n",
    "    [[\"AccNoFull\",\"TaxonName\",\"Purpose\",\"SeedsInStore\"]]\n",
    ")\n",
    "\n",
    "# 4) Build interactive table\n",
    "acc_sel       = widgets.Text(description=\"Accession #:\", placeholder=\"e.g. 1978-045\")\n",
    "taxon_sel     = widgets.Text(description=\"Taxon:\", placeholder=\"any substring\")\n",
    "purpose_sel   = widgets.Dropdown(\n",
    "    options=[\"All\"] + sorted(inventory[\"Purpose\"].dropna().unique().tolist()),\n",
    "    description=\"Purpose:\"\n",
    ")\n",
    "output        = widgets.Output()\n",
    "\n",
    "def refresh(_=None):\n",
    "    output.clear_output()\n",
    "    df = inventory.copy()\n",
    "    \n",
    "    # apply filters\n",
    "    if acc_sel.value.strip():\n",
    "        df = df[df[\"AccNoFull\"].str.contains(acc_sel.value.strip(), case=False)]\n",
    "    if taxon_sel.value.strip():\n",
    "        df = df[df[\"TaxonName\"].str.lower().str.contains(taxon_sel.value.strip().lower())]\n",
    "    if purpose_sel.value != \"All\":\n",
    "        df = df[df[\"Purpose\"] == purpose_sel.value]\n",
    "    \n",
    "    with output:\n",
    "        display(df)\n",
    "\n",
    "# wire up callbacks\n",
    "for w in (acc_sel, taxon_sel, purpose_sel):\n",
    "    w.observe(refresh, names=\"value\")\n",
    "\n",
    "# initial display\n",
    "controls = widgets.HBox([acc_sel, taxon_sel, purpose_sel])\n",
    "display(controls, output)\n",
    "refresh()"
   ]
  },
  {
   "cell_type": "code",
   "execution_count": null,
   "id": "358d14ff-117e-4aa6-8064-2d04ae0b7fe4",
   "metadata": {},
   "outputs": [],
   "source": []
  }
 ],
 "metadata": {
  "kernelspec": {
   "display_name": "Python [conda env:base] *",
   "language": "python",
   "name": "conda-base-py"
  },
  "language_info": {
   "codemirror_mode": {
    "name": "ipython",
    "version": 3
   },
   "file_extension": ".py",
   "mimetype": "text/x-python",
   "name": "python",
   "nbconvert_exporter": "python",
   "pygments_lexer": "ipython3",
   "version": "3.12.3"
  }
 },
 "nbformat": 4,
 "nbformat_minor": 5
}
